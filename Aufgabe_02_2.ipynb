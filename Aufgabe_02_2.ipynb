{
 "nbformat": 4,
 "nbformat_minor": 0,
 "metadata": {
  "colab": {
   "provenance": []
  },
  "kernelspec": {
   "name": "python3",
   "display_name": "Python 3"
  },
  "language_info": {
   "name": "python"
  }
 },
 "cells": [
  {
   "cell_type": "code",
   "execution_count": 1,
   "metadata": {
    "id": "nZVPUQ6LjoXZ"
   },
   "outputs": [],
   "source": [
    "### Aufgabe_02_2.ipynb ###\n",
    "# NumPy-Bibliothek importieren\n",
    "import numpy as np\n",
    "\n",
    "# NumPy-Array\n",
    "ndArray = np.array([[5, 2, 1, 6, 0], [7, 3, 9, 4, 8]])"
   ]
  },
  {
   "cell_type": "markdown",
   "source": [
    "Berechnung der Quadratwurzel für jedes Element"
   ],
   "metadata": {
    "id": "U-r8pLksjxTZ"
   }
  },
  {
   "cell_type": "code",
   "source": [
    "ndArraySqrt = np.sqrt(ndArray)"
   ],
   "metadata": {
    "id": "8mzrn_GWjxeI"
   },
   "execution_count": 22,
   "outputs": []
  },
  {
   "cell_type": "markdown",
   "source": [
    "Berechnung der kumulativen Summe über die Spalten"
   ],
   "metadata": {
    "id": "satSRxEaj1sZ"
   }
  },
  {
   "cell_type": "code",
   "source": [
    "ndArrayCuSum = ndArray.cumsum(axis=1)\n",
    "print(ndArrayCuSum)"
   ],
   "metadata": {
    "id": "7LnUbDAGj4dY"
   },
   "execution_count": 30,
   "outputs": [
    {
     "name": "stdout",
     "output_type": "stream",
     "text": [
      "[[ 5  7  8 14 14]\n",
      " [ 7 10 19 23 31]]\n"
     ]
    }
   ]
  },
  {
   "cell_type": "markdown",
   "source": [
    "Maximum der beiden Teilarrays"
   ],
   "metadata": {
    "id": "fiGWSRoxj5RR"
   }
  },
  {
   "cell_type": "code",
   "source": [
    "ndArrayMax= ndArray.max(axis=1)\n",
    "print(ndArrayMax)\n",
    "#np.amax(ndArray)\n",
    "np.maximum.reduce([ndArray[0],ndArray[1]])"
   ],
   "metadata": {
    "id": "rRGCVSsej6jo"
   },
   "execution_count": 33,
   "outputs": [
    {
     "name": "stdout",
     "output_type": "stream",
     "text": [
      "[6 9]\n"
     ]
    },
    {
     "data": {
      "text/plain": "array([7, 3, 9, 6, 8])"
     },
     "execution_count": 33,
     "metadata": {},
     "output_type": "execute_result"
    }
   ]
  },
  {
   "cell_type": "markdown",
   "source": [
    "Addition der korrespondierenden Elemente der Teilarrays"
   ],
   "metadata": {
    "id": "JJ-XsK2Gj8AA"
   }
  },
  {
   "cell_type": "code",
   "source": [
    "#ndArrayAdd = ndArray.sum(axis=0)\n",
    "\n",
    "ndArrayAdd = np.add(ndArray[0],ndArray[1])\n",
    "print(ndArrayAdd)"
   ],
   "metadata": {
    "id": "_hDKPKT5j9V6"
   },
   "execution_count": 42,
   "outputs": [
    {
     "name": "stdout",
     "output_type": "stream",
     "text": [
      "[12  5 10 10  8]\n"
     ]
    }
   ]
  },
  {
   "cell_type": "markdown",
   "source": [
    "Berechnung des Mittelwerts über die Zeilen"
   ],
   "metadata": {
    "id": "vm8BxNIGj-Zh"
   }
  },
  {
   "cell_type": "code",
   "source": [
    "ndArrayMean = ndArray.mean(axis=0)\n",
    "print(ndArrayMean)"
   ],
   "metadata": {
    "id": "cqr7lzjpkAcy"
   },
   "execution_count": 37,
   "outputs": [
    {
     "name": "stdout",
     "output_type": "stream",
     "text": [
      "[6.  2.5 5.  5.  4. ]\n"
     ]
    }
   ]
  },
  {
   "cell_type": "markdown",
   "source": [
    "Anzahl der Zahlen größer als 3 (boolesche Arrays)"
   ],
   "metadata": {
    "id": "GJb-9fNuFQhH"
   }
  },
  {
   "cell_type": "code",
   "source": [
    "#ndArray[ndArray>3].shape[0]\n",
    "#ndArray[ndArray>3]\n",
    "ndArraySum = (ndArray >3).sum()\n",
    "print(ndArraySum)"
   ],
   "metadata": {
    "id": "02Nj1MvuFTwo"
   },
   "execution_count": 38,
   "outputs": [
    {
     "name": "stdout",
     "output_type": "stream",
     "text": [
      "6\n"
     ]
    }
   ]
  },
  {
   "cell_type": "code",
   "source": [
    "print(\"Array:         {}\".format(ndArray))\n",
    "print(\"Quadratwurzel: {}\".format(ndArraySqrt))\n",
    "print(\"Kum. Summe:    {}\".format(ndArrayCuSum))\n",
    "print(\"Maximum:       {}\".format(ndArrayMax))\n",
    "print(\"Addition:      {}\".format(ndArrayAdd))\n",
    "print(\"Mittelwert:    {}\".format(ndArrayMean))\n",
    "print(\"Zahlen > 3:    {}\".format(ndArraySum))"
   ],
   "metadata": {
    "id": "whGe1moJju26"
   },
   "execution_count": 28,
   "outputs": [
    {
     "name": "stdout",
     "output_type": "stream",
     "text": [
      "Array:         [[5 2 1 6 0]\n",
      " [7 3 9 4 8]]\n",
      "Quadratwurzel: [[2.23606798 1.41421356 1.         2.44948974 0.        ]\n",
      " [2.64575131 1.73205081 3.         2.         2.82842712]]\n",
      "Kum. Summe:    [[ 5  2  1  6  0]\n",
      " [12  5 10 10  8]]\n",
      "Maximum:       [6 9]\n",
      "Addition:      [14 31]\n",
      "Mittelwert:    [2.8 6.2]\n",
      "Zahlen > 3:    6\n"
     ]
    }
   ]
  },
  {
   "cell_type": "code",
   "source": [
    "'''\n",
    "Ausgabe:\n",
    "Array:         [[5 2 1 6 0]\n",
    "                [7 3 9 4 8]]\n",
    "'''\n",
    "### Ende Aufgabe_02_2.ipynb ###"
   ],
   "metadata": {
    "id": "hpCUa-i__TaD"
   },
   "execution_count": null,
   "outputs": []
  }
 ]
}
